{
 "cells": [
  {
   "cell_type": "code",
   "execution_count": 1,
   "id": "8f8c007b",
   "metadata": {},
   "outputs": [],
   "source": [
    "import pandas as pd\n",
    "import matplotlib.pyplot as plt"
   ]
  },
  {
   "cell_type": "code",
   "execution_count": 67,
   "id": "4860578d",
   "metadata": {},
   "outputs": [
    {
     "data": {
      "text/html": [
       "<div>\n",
       "<style scoped>\n",
       "    .dataframe tbody tr th:only-of-type {\n",
       "        vertical-align: middle;\n",
       "    }\n",
       "\n",
       "    .dataframe tbody tr th {\n",
       "        vertical-align: top;\n",
       "    }\n",
       "\n",
       "    .dataframe thead th {\n",
       "        text-align: right;\n",
       "    }\n",
       "</style>\n",
       "<table border=\"1\" class=\"dataframe\">\n",
       "  <thead>\n",
       "    <tr style=\"text-align: right;\">\n",
       "      <th></th>\n",
       "      <th>ID</th>\n",
       "      <th>name</th>\n",
       "      <th>category</th>\n",
       "      <th>main_category</th>\n",
       "      <th>currency</th>\n",
       "      <th>deadline</th>\n",
       "      <th>goal</th>\n",
       "      <th>launched</th>\n",
       "      <th>pledged</th>\n",
       "      <th>state</th>\n",
       "      <th>backers</th>\n",
       "      <th>country</th>\n",
       "      <th>usd pledged</th>\n",
       "      <th>usd_pledged_real</th>\n",
       "      <th>usd_goal_real</th>\n",
       "    </tr>\n",
       "  </thead>\n",
       "  <tbody>\n",
       "    <tr>\n",
       "      <th>0</th>\n",
       "      <td>1000002330</td>\n",
       "      <td>The Songs of Adelaide &amp; Abullah</td>\n",
       "      <td>Poetry</td>\n",
       "      <td>Publishing</td>\n",
       "      <td>GBP</td>\n",
       "      <td>2015-10-09</td>\n",
       "      <td>1000.0</td>\n",
       "      <td>2015-08-11 12:12:28</td>\n",
       "      <td>0.0</td>\n",
       "      <td>failed</td>\n",
       "      <td>0</td>\n",
       "      <td>GB</td>\n",
       "      <td>0.0</td>\n",
       "      <td>0.0</td>\n",
       "      <td>1533.95</td>\n",
       "    </tr>\n",
       "    <tr>\n",
       "      <th>1</th>\n",
       "      <td>1000003930</td>\n",
       "      <td>Greeting From Earth: ZGAC Arts Capsule For ET</td>\n",
       "      <td>Narrative Film</td>\n",
       "      <td>Film &amp; Video</td>\n",
       "      <td>USD</td>\n",
       "      <td>2017-11-01</td>\n",
       "      <td>30000.0</td>\n",
       "      <td>2017-09-02 04:43:57</td>\n",
       "      <td>2421.0</td>\n",
       "      <td>failed</td>\n",
       "      <td>15</td>\n",
       "      <td>US</td>\n",
       "      <td>100.0</td>\n",
       "      <td>2421.0</td>\n",
       "      <td>30000.00</td>\n",
       "    </tr>\n",
       "    <tr>\n",
       "      <th>2</th>\n",
       "      <td>1000004038</td>\n",
       "      <td>Where is Hank?</td>\n",
       "      <td>Narrative Film</td>\n",
       "      <td>Film &amp; Video</td>\n",
       "      <td>USD</td>\n",
       "      <td>2013-02-26</td>\n",
       "      <td>45000.0</td>\n",
       "      <td>2013-01-12 00:20:50</td>\n",
       "      <td>220.0</td>\n",
       "      <td>failed</td>\n",
       "      <td>3</td>\n",
       "      <td>US</td>\n",
       "      <td>220.0</td>\n",
       "      <td>220.0</td>\n",
       "      <td>45000.00</td>\n",
       "    </tr>\n",
       "    <tr>\n",
       "      <th>3</th>\n",
       "      <td>1000007540</td>\n",
       "      <td>ToshiCapital Rekordz Needs Help to Complete Album</td>\n",
       "      <td>Music</td>\n",
       "      <td>Music</td>\n",
       "      <td>USD</td>\n",
       "      <td>2012-04-16</td>\n",
       "      <td>5000.0</td>\n",
       "      <td>2012-03-17 03:24:11</td>\n",
       "      <td>1.0</td>\n",
       "      <td>failed</td>\n",
       "      <td>1</td>\n",
       "      <td>US</td>\n",
       "      <td>1.0</td>\n",
       "      <td>1.0</td>\n",
       "      <td>5000.00</td>\n",
       "    </tr>\n",
       "    <tr>\n",
       "      <th>4</th>\n",
       "      <td>1000011046</td>\n",
       "      <td>Community Film Project: The Art of Neighborhoo...</td>\n",
       "      <td>Film &amp; Video</td>\n",
       "      <td>Film &amp; Video</td>\n",
       "      <td>USD</td>\n",
       "      <td>2015-08-29</td>\n",
       "      <td>19500.0</td>\n",
       "      <td>2015-07-04 08:35:03</td>\n",
       "      <td>1283.0</td>\n",
       "      <td>canceled</td>\n",
       "      <td>14</td>\n",
       "      <td>US</td>\n",
       "      <td>1283.0</td>\n",
       "      <td>1283.0</td>\n",
       "      <td>19500.00</td>\n",
       "    </tr>\n",
       "  </tbody>\n",
       "</table>\n",
       "</div>"
      ],
      "text/plain": [
       "           ID                                               name  \\\n",
       "0  1000002330                    The Songs of Adelaide & Abullah   \n",
       "1  1000003930      Greeting From Earth: ZGAC Arts Capsule For ET   \n",
       "2  1000004038                                     Where is Hank?   \n",
       "3  1000007540  ToshiCapital Rekordz Needs Help to Complete Album   \n",
       "4  1000011046  Community Film Project: The Art of Neighborhoo...   \n",
       "\n",
       "         category main_category currency    deadline     goal  \\\n",
       "0          Poetry    Publishing      GBP  2015-10-09   1000.0   \n",
       "1  Narrative Film  Film & Video      USD  2017-11-01  30000.0   \n",
       "2  Narrative Film  Film & Video      USD  2013-02-26  45000.0   \n",
       "3           Music         Music      USD  2012-04-16   5000.0   \n",
       "4    Film & Video  Film & Video      USD  2015-08-29  19500.0   \n",
       "\n",
       "              launched  pledged     state  backers country  usd pledged  \\\n",
       "0  2015-08-11 12:12:28      0.0    failed        0      GB          0.0   \n",
       "1  2017-09-02 04:43:57   2421.0    failed       15      US        100.0   \n",
       "2  2013-01-12 00:20:50    220.0    failed        3      US        220.0   \n",
       "3  2012-03-17 03:24:11      1.0    failed        1      US          1.0   \n",
       "4  2015-07-04 08:35:03   1283.0  canceled       14      US       1283.0   \n",
       "\n",
       "   usd_pledged_real  usd_goal_real  \n",
       "0               0.0        1533.95  \n",
       "1            2421.0       30000.00  \n",
       "2             220.0       45000.00  \n",
       "3               1.0        5000.00  \n",
       "4            1283.0       19500.00  "
      ]
     },
     "execution_count": 67,
     "metadata": {},
     "output_type": "execute_result"
    }
   ],
   "source": [
    "data = pd.read_csv('ks-projects-201801.csv', encoding = \"ISO-8859-1\")\n",
    "data.head(5)"
   ]
  },
  {
   "cell_type": "code",
   "execution_count": 5,
   "id": "f39d0fd5",
   "metadata": {},
   "outputs": [
    {
     "name": "stdout",
     "output_type": "stream",
     "text": [
      "378661\n"
     ]
    }
   ],
   "source": [
    "# Num observations\n",
    "print(len(data))"
   ]
  },
  {
   "cell_type": "code",
   "execution_count": 7,
   "id": "eefe927a",
   "metadata": {},
   "outputs": [
    {
     "data": {
      "text/plain": [
       "failed        197719\n",
       "successful    133956\n",
       "canceled       38779\n",
       "undefined       3562\n",
       "live            2799\n",
       "suspended       1846\n",
       "Name: state, dtype: int64"
      ]
     },
     "execution_count": 7,
     "metadata": {},
     "output_type": "execute_result"
    }
   ],
   "source": [
    "data['state'].value_counts()"
   ]
  },
  {
   "cell_type": "code",
   "execution_count": 8,
   "id": "aca7d4f2",
   "metadata": {},
   "outputs": [],
   "source": [
    "# This project is to differentiate between failed and successful projects. \n",
    "# Drop all projects that are canceled, undefined, live, and suspended.\n",
    "\n",
    "data.drop(data[data['state']=='canceled'].index, inplace=True)\n",
    "data.drop(data[data['state']=='undefined'].index, inplace=True)\n",
    "data.drop(data[data['state']=='live'].index, inplace=True)\n",
    "data.drop(data[data['state']=='suspended'].index, inplace=True)\n",
    "\n",
    "# Reset the index for iteration purposes\n",
    "data.reset_index(drop=True, inplace=True)"
   ]
  },
  {
   "cell_type": "code",
   "execution_count": 9,
   "id": "7c926015",
   "metadata": {},
   "outputs": [
    {
     "data": {
      "text/plain": [
       "failed        197719\n",
       "successful    133956\n",
       "Name: state, dtype: int64"
      ]
     },
     "execution_count": 9,
     "metadata": {},
     "output_type": "execute_result"
    }
   ],
   "source": [
    "# There are about 64,000 more failed projects than successful projects in the dataset\n",
    "data['state'].value_counts()"
   ]
  },
  {
   "cell_type": "code",
   "execution_count": 68,
   "id": "57a0578c",
   "metadata": {},
   "outputs": [
    {
     "data": {
      "text/plain": [
       "Text(0, 0.5, 'Num Observations')"
      ]
     },
     "execution_count": 68,
     "metadata": {},
     "output_type": "execute_result"
    },
    {
     "data": {
      "image/png": "[encoded data removed]",
      "text/plain": [
       "<Figure size 288x288 with 1 Axes>"
      ]
     },
     "metadata": {
      "needs_background": "light"
     },
     "output_type": "display_data"
    }
   ],
   "source": [
    "# Film & video is the most common category, with Dance being the least common\n",
    "data['main_category'].value_counts().plot(kind='bar')\n",
    "plt.title(\"Number of Observations by Main Category\")\n",
    "plt.xlabel('Main Category')\n",
    "plt.ylabel('Num Observations')"
   ]
  },
  {
   "cell_type": "code",
   "execution_count": 11,
   "id": "560d4d64",
   "metadata": {},
   "outputs": [
    {
     "data": {
      "text/plain": [
       "{'Art': 0.4488904488904489,\n",
       " 'Comics': 0.5914152662482284,\n",
       " 'Crafts': 0.2705295471987721,\n",
       " 'Dance': 0.6543520850825637,\n",
       " 'Design': 0.4159438574357357,\n",
       " 'Fashion': 0.28283185840707964,\n",
       " 'Film & Video': 0.4179064871654254,\n",
       " 'Food': 0.2759136664550648,\n",
       " 'Games': 0.43890466673679046,\n",
       " 'Journalism': 0.24391419619185345,\n",
       " 'Music': 0.5266055844523276,\n",
       " 'Photography': 0.3411084735266797,\n",
       " 'Publishing': 0.347016504443504,\n",
       " 'Technology': 0.2378558225508318,\n",
       " 'Theater': 0.6379613356766256}"
      ]
     },
     "execution_count": 11,
     "metadata": {},
     "output_type": "execute_result"
    }
   ],
   "source": [
    "# Calculate success rate by category\n",
    "\n",
    "def Success_Rate(category):\n",
    "    successful = 0\n",
    "    failed = 0\n",
    "    \n",
    "    for i in range(len(data['main_category'])):\n",
    "        if data['main_category'][i] == category:\n",
    "            if data['state'][i] == 'successful':\n",
    "                successful = successful + 1\n",
    "            else:\n",
    "                failed = failed + 1\n",
    "                \n",
    "    return successful/(successful+failed)\n",
    "\n",
    "categories = list(data['main_category'].unique())\n",
    "success_Rates = {}\n",
    "\n",
    "for i in categories:\n",
    "    success_Rates[i] = Success_Rate(i)\n",
    "success_Rates"
   ]
  },
  {
   "cell_type": "code",
   "execution_count": 12,
   "id": "03f5decd",
   "metadata": {},
   "outputs": [],
   "source": [
    "# Kickstarted projects in theater, comics, dance, and music do particularly well, while technology, journalism, food, fashion, and crafts\n",
    "# projects tend to struggle."
   ]
  },
  {
   "cell_type": "code",
   "execution_count": 56,
   "id": "fe229095",
   "metadata": {},
   "outputs": [
    {
     "data": {
      "text/plain": [
       "<function matplotlib.pyplot.show>"
      ]
     },
     "execution_count": 56,
     "metadata": {},
     "output_type": "execute_result"
    },
    {
     "data": {
      "image/png": "[encoded data removed]",
      "text/plain": [
       "<Figure size 288x288 with 1 Axes>"
      ]
     },
     "metadata": {
      "needs_background": "light"
     },
     "output_type": "display_data"
    }
   ],
   "source": [
    "plt.bar(range(len(success_Rates)), list(success_Rates.values()), align='center')\n",
    "plt.xticks(range(len(success_Rates)), list(success_Rates.keys()), rotation='vertical')\n",
    "plt.title(\"Kickstarter Success Rate by Category\")\n",
    "plt.xlabel(\"Category\")\n",
    "plt.ylabel(\"Success Rate\")\n",
    "plt.rcParams['figure.figsize'] = [4, 4]\n",
    "plt.show\n"
   ]
  },
  {
   "cell_type": "code",
   "execution_count": 14,
   "id": "ede461ee",
   "metadata": {},
   "outputs": [
    {
     "data": {
      "text/plain": [
       "US      261360\n",
       "GB       29454\n",
       "CA       12370\n",
       "AU        6616\n",
       "DE        3436\n",
       "FR        2520\n",
       "NL        2411\n",
       "IT        2369\n",
       "ES        1873\n",
       "SE        1509\n",
       "MX        1411\n",
       "NZ        1274\n",
       "DK         926\n",
       "IE         683\n",
       "CH         652\n",
       "NO         582\n",
       "BE         523\n",
       "AT         485\n",
       "HK         477\n",
       "SG         454\n",
       "N,0\"       210\n",
       "LU          57\n",
       "JP          23\n",
       "Name: country, dtype: int64"
      ]
     },
     "execution_count": 14,
     "metadata": {},
     "output_type": "execute_result"
    }
   ],
   "source": [
    "data['country'].value_counts()\n",
    "# The vast majority of all projects are launched in the US"
   ]
  },
  {
   "cell_type": "code",
   "execution_count": 15,
   "id": "e048461a",
   "metadata": {},
   "outputs": [
    {
     "data": {
      "text/plain": [
       "{'AT': 0.22061855670103092,\n",
       " 'AU': 0.30380894800483677,\n",
       " 'BE': 0.29063097514340347,\n",
       " 'CA': 0.3341956345998383,\n",
       " 'CH': 0.28680981595092025,\n",
       " 'DE': 0.27270081490104775,\n",
       " 'DK': 0.38876889848812096,\n",
       " 'ES': 0.2626801922050187,\n",
       " 'FR': 0.3603174603174603,\n",
       " 'GB': 0.40968968561146196,\n",
       " 'HK': 0.4528301886792453,\n",
       " 'IE': 0.30307467057101023,\n",
       " 'IT': 0.18531025749261293,\n",
       " 'JP': 0.30434782608695654,\n",
       " 'LU': 0.3333333333333333,\n",
       " 'MX': 0.2806520198440822,\n",
       " 'N,0\"': 0.5,\n",
       " 'NL': 0.25591041061800085,\n",
       " 'NO': 0.27835051546391754,\n",
       " 'NZ': 0.3516483516483517,\n",
       " 'SE': 0.3373094764744864,\n",
       " 'SG': 0.3920704845814978,\n",
       " 'US': 0.4181932966023875}"
      ]
     },
     "execution_count": 15,
     "metadata": {},
     "output_type": "execute_result"
    }
   ],
   "source": [
    "# Calculate success rate by country\n",
    "\n",
    "def Success_Rate2(country):\n",
    "    successful = 0\n",
    "    failed = 0\n",
    "    \n",
    "    for i in range(len(data['country'])):\n",
    "        if data['country'][i] == country:\n",
    "            if data['state'][i] == 'successful':\n",
    "                successful = successful + 1\n",
    "            else:\n",
    "                failed = failed + 1\n",
    "                \n",
    "    return successful/(successful+failed)\n",
    "\n",
    "countries = list(data['country'].unique())\n",
    "success_Rates_Co = {}\n",
    "countries\n",
    "for i in countries:\n",
    "    success_Rates_Co[i] = Success_Rate2(i)\n",
    "success_Rates_Co\n"
   ]
  },
  {
   "cell_type": "code",
   "execution_count": 16,
   "id": "52435f1d",
   "metadata": {},
   "outputs": [],
   "source": [
    "# Projects in the US, Hong Kong, and Great Britain perform better than projects launched elsewhere"
   ]
  },
  {
   "cell_type": "code",
   "execution_count": 54,
   "id": "58f1983a",
   "metadata": {},
   "outputs": [
    {
     "data": {
      "text/plain": [
       "<function matplotlib.pyplot.show>"
      ]
     },
     "execution_count": 54,
     "metadata": {},
     "output_type": "execute_result"
    },
    {
     "data": {
      "image/png": "[encoded data removed]",
      "text/plain": [
       "<Figure size 576x432 with 1 Axes>"
      ]
     },
     "metadata": {
      "needs_background": "light"
     },
     "output_type": "display_data"
    }
   ],
   "source": [
    "# Plot success rate by country\n",
    "\n",
    "plt.bar(range(len(success_Rates_Co)), list(success_Rates_Co.values()), align='center')\n",
    "plt.xticks(range(len(success_Rates_Co)), list(success_Rates_Co.keys()), rotation='vertical')\n",
    "plt.title(\"Kickstarter Success Rate by Country\")\n",
    "plt.xlabel(\"Country\")\n",
    "plt.ylabel(\"Success Rate\")\n",
    "plt.rcParams['figure.figsize'] = [4, 4]\n",
    "plt.show"
   ]
  },
  {
   "cell_type": "code",
   "execution_count": 18,
   "id": "49a18a69",
   "metadata": {},
   "outputs": [],
   "source": [
    "# Create new feature indicating number of words in the project's title\n",
    "\n",
    "def word_count(column):\n",
    "    spaces = 0\n",
    "    for i in column:\n",
    "        if i == ' ':\n",
    "            spaces = spaces + 1\n",
    "    # num words is 1 more than num spaces\n",
    "    spaces = spaces + 1\n",
    "    return spaces\n",
    "     \n",
    "word_Counts = []\n",
    "for i in data['name']:\n",
    "    word_Counts.append(word_count(str(i)))\n",
    "\n",
    "data['numWords'] = word_Counts"
   ]
  },
  {
   "cell_type": "code",
   "execution_count": 19,
   "id": "597ea5ce",
   "metadata": {},
   "outputs": [
    {
     "data": {
      "text/plain": [
       "3     42452\n",
       "4     41715\n",
       "5     39389\n",
       "6     36822\n",
       "7     35293\n",
       "8     32300\n",
       "2     30231\n",
       "9     26483\n",
       "10    17713\n",
       "1     14937\n",
       "11     8846\n",
       "12     3498\n",
       "13     1153\n",
       "14      406\n",
       "15      217\n",
       "16      109\n",
       "17       52\n",
       "18       22\n",
       "19        9\n",
       "20        5\n",
       "21        5\n",
       "22        4\n",
       "28        4\n",
       "23        2\n",
       "29        2\n",
       "32        2\n",
       "33        1\n",
       "25        1\n",
       "27        1\n",
       "41        1\n",
       "Name: numWords, dtype: int64"
      ]
     },
     "execution_count": 19,
     "metadata": {},
     "output_type": "execute_result"
    }
   ],
   "source": [
    "data['numWords'].value_counts()"
   ]
  },
  {
   "cell_type": "code",
   "execution_count": 20,
   "id": "2d8a9563",
   "metadata": {},
   "outputs": [
    {
     "data": {
      "text/plain": [
       "{1: 0.2962442257481422,\n",
       " 2: 0.300089312295326,\n",
       " 3: 0.3268397248657307,\n",
       " 4: 0.38139757880858205,\n",
       " 5: 0.4189240650943157,\n",
       " 6: 0.43354516321764164,\n",
       " 7: 0.45439605587510273,\n",
       " 8: 0.46058823529411763,\n",
       " 9: 0.4722652267492354,\n",
       " 10: 0.46767910574154575,\n",
       " 11: 0.45930364006330543,\n",
       " 12: 0.44453973699256716,\n",
       " 13: 0.4570685169124024,\n",
       " 14: 0.45566502463054187,\n",
       " 15: 0.4055299539170507,\n",
       " 16: 0.43119266055045874,\n",
       " 17: 0.3269230769230769,\n",
       " 18: 0.45454545454545453,\n",
       " 19: 0.5555555555555556,\n",
       " 20: 0.2,\n",
       " 21: 0.4,\n",
       " 22: 0.25,\n",
       " 23: 0.5,\n",
       " 25: 0.0,\n",
       " 27: 0.0,\n",
       " 28: 0.5,\n",
       " 29: 0.0,\n",
       " 32: 0.0,\n",
       " 33: 0.0,\n",
       " 41: 0.0}"
      ]
     },
     "execution_count": 20,
     "metadata": {},
     "output_type": "execute_result"
    }
   ],
   "source": [
    "# Calculate success rate by word count\n",
    "\n",
    "def Success_Rate3(number):\n",
    "    successful = 0\n",
    "    failed = 0\n",
    "    \n",
    "    for i in range(len(data['numWords'])):\n",
    "        if data['numWords'][i] == number:\n",
    "            if data['state'][i] == 'successful':\n",
    "                successful = successful + 1\n",
    "            else:\n",
    "                failed = failed + 1\n",
    "                \n",
    "    return successful/(successful+failed)\n",
    "\n",
    "numWords = list(data['numWords'].unique())\n",
    "success_Rates_NW = {}\n",
    "for i in numWords:\n",
    "    success_Rates_NW[i] = Success_Rate3(i)\n",
    "success_Rates_NW"
   ]
  },
  {
   "cell_type": "code",
   "execution_count": 21,
   "id": "b0f298dc",
   "metadata": {},
   "outputs": [],
   "source": [
    "# Success rate increases with and increase in the number of words in the project's title until num_words reaches 9. Moving beyond 9 \n",
    "# Words seems to negatively impact success rate."
   ]
  },
  {
   "cell_type": "code",
   "execution_count": 60,
   "id": "a365e8e3",
   "metadata": {},
   "outputs": [
    {
     "data": {
      "text/plain": [
       "<function matplotlib.pyplot.show>"
      ]
     },
     "execution_count": 60,
     "metadata": {},
     "output_type": "execute_result"
    },
    {
     "data": {
      "image/png": "[encoded data removed]",
      "text/plain": [
       "<Figure size 504x504 with 1 Axes>"
      ]
     },
     "metadata": {
      "needs_background": "light"
     },
     "output_type": "display_data"
    }
   ],
   "source": [
    "# Plot success rate by word count\n",
    "\n",
    "plt.bar(range(len(success_Rates_NW)), list(success_Rates_NW.values()), align='center')\n",
    "plt.xticks(range(len(success_Rates_NW)), list(success_Rates_NW.keys()), rotation='vertical')\n",
    "plt.title(\"Kickstarter Success Rate by Words in Title\")\n",
    "plt.xlabel(\"Number of Words\")\n",
    "plt.ylabel(\"Success Rate\")\n",
    "plt.rcParams['figure.figsize'] = [4, 8]\n",
    "plt.show"
   ]
  },
  {
   "cell_type": "code",
   "execution_count": 23,
   "id": "4a0396d3",
   "metadata": {},
   "outputs": [],
   "source": [
    "# Create new feature indicating whether or not the project title poses a question\n",
    "\n",
    "def char_Finder(char, name):\n",
    "    count = 0\n",
    "    for i in name:\n",
    "        if i == char:\n",
    "            count = count+1\n",
    "    if count == 0:\n",
    "        return 0\n",
    "    else:\n",
    "        return 1\n",
    "     \n",
    "Questions = []\n",
    "for i in data['name']:\n",
    "    Questions.append(char_Finder('?', str(i)))\n",
    "    \n",
    "data['isQuestion'] = Questions"
   ]
  },
  {
   "cell_type": "code",
   "execution_count": 24,
   "id": "7941c073",
   "metadata": {},
   "outputs": [
    {
     "data": {
      "text/plain": [
       "{0: 0.4041195904137843, 1: 0.37690484253301726}"
      ]
     },
     "execution_count": 24,
     "metadata": {},
     "output_type": "execute_result"
    }
   ],
   "source": [
    "# Calculate success rate by whether or not the title poses a question\n",
    "\n",
    "def Success_Rate4(number):\n",
    "    successful = 0\n",
    "    failed = 0\n",
    "    \n",
    "    for i in range(len(data['isQuestion'])):\n",
    "        if data['isQuestion'][i] == number:\n",
    "            if data['state'][i] == 'successful':\n",
    "                successful = successful + 1\n",
    "            else:\n",
    "                failed = failed + 1\n",
    "                \n",
    "    return successful/(successful+failed)\n",
    "\n",
    "dummies = [0,1]\n",
    "success_Rates_Q = {}\n",
    "for i in dummies:\n",
    "    success_Rates_Q[i] = Success_Rate4(i)\n",
    "success_Rates_Q"
   ]
  },
  {
   "cell_type": "code",
   "execution_count": 25,
   "id": "de6c062c",
   "metadata": {},
   "outputs": [],
   "source": [
    "# Projects that pose a question perform slighlty worse than projects that don't"
   ]
  },
  {
   "cell_type": "code",
   "execution_count": 62,
   "id": "19d12281",
   "metadata": {},
   "outputs": [
    {
     "data": {
      "text/plain": [
       "<function matplotlib.pyplot.show>"
      ]
     },
     "execution_count": 62,
     "metadata": {},
     "output_type": "execute_result"
    },
    {
     "data": {
      "image/png": "[encoded data removed]",
      "text/plain": [
       "<Figure size 288x288 with 1 Axes>"
      ]
     },
     "metadata": {
      "needs_background": "light"
     },
     "output_type": "display_data"
    }
   ],
   "source": [
    "plt.bar(range(len(success_Rates_Q)), list(success_Rates_Q.values()), align='center')\n",
    "plt.xticks(range(len(success_Rates_Q)), list(success_Rates_Q.keys()), rotation='vertical')\n",
    "plt.title(\"Kickstarter Success Rate by Presence of '?'\")\n",
    "plt.xlabel(\"Contains '?'\")\n",
    "plt.ylabel(\"Success Rate\")\n",
    "plt.rcParams['figure.figsize'] = [4, 5]\n",
    "plt.show"
   ]
  },
  {
   "cell_type": "code",
   "execution_count": 27,
   "id": "86931a02",
   "metadata": {},
   "outputs": [],
   "source": [
    "# Create new feature indicating whether or not project title contains an exclaimation\n",
    "\n",
    "Exclaimations = []\n",
    "for i in data['name']:\n",
    "    Exclaimations.append(char_Finder('!', str(i)))\n",
    "    \n",
    "data['isExclaimation'] = Exclaimations"
   ]
  },
  {
   "cell_type": "code",
   "execution_count": 28,
   "id": "95b5f29f",
   "metadata": {},
   "outputs": [
    {
     "data": {
      "text/plain": [
       "{0: 0.395778960632225, 1: 0.4827162092180218}"
      ]
     },
     "execution_count": 28,
     "metadata": {},
     "output_type": "execute_result"
    }
   ],
   "source": [
    "# Calculate success rate by whether or not the project uses an exclaimation point\n",
    "\n",
    "def Success_Rate5(number):\n",
    "    successful = 0\n",
    "    failed = 0\n",
    "    \n",
    "    for i in range(len(data['isExclaimation'])):\n",
    "        if data['isExclaimation'][i] == number:\n",
    "            if data['state'][i] == 'successful':\n",
    "                successful = successful + 1\n",
    "            else:\n",
    "                failed = failed + 1\n",
    "                \n",
    "    return successful/(successful+failed)\n",
    "\n",
    "dummies = [0,1]\n",
    "success_Rates_E = {}\n",
    "for i in dummies:\n",
    "    success_Rates_E[i] = Success_Rate5(i)\n",
    "success_Rates_E"
   ]
  },
  {
   "cell_type": "code",
   "execution_count": null,
   "id": "6aca69e6",
   "metadata": {},
   "outputs": [],
   "source": [
    "# Projects using an exclaimation point are about 10% more likely to reach their goal."
   ]
  },
  {
   "cell_type": "code",
   "execution_count": 63,
   "id": "0d7f704f",
   "metadata": {},
   "outputs": [
    {
     "data": {
      "text/plain": [
       "<function matplotlib.pyplot.show>"
      ]
     },
     "execution_count": 63,
     "metadata": {},
     "output_type": "execute_result"
    },
    {
     "data": {
      "image/png": "[encoded data removed]",
      "text/plain": [
       "<Figure size 288x360 with 1 Axes>"
      ]
     },
     "metadata": {
      "needs_background": "light"
     },
     "output_type": "display_data"
    }
   ],
   "source": [
    "plt.bar(range(len(success_Rates_E)), list(success_Rates_E.values()), align='center')\n",
    "plt.xticks(range(len(success_Rates_E)), list(success_Rates_E.keys()), rotation='vertical')\n",
    "plt.title(\"Kickstarter Success Rate by Use of Exclaimation point\")\n",
    "plt.xlabel(\"Uses '!'\")\n",
    "plt.ylabel(\"Success Rate\")\n",
    "plt.rcParams['figure.figsize'] = [4, 4]\n",
    "plt.show"
   ]
  },
  {
   "cell_type": "code",
   "execution_count": 30,
   "id": "e30822ec",
   "metadata": {},
   "outputs": [],
   "source": [
    "# Create new feature indicating whether or not the title is all lowercase\n",
    "\n",
    "lowers = []\n",
    "for i in data['name']:\n",
    "    lowers.append(str(i).islower())\n",
    "data['isLower'] = lowers"
   ]
  },
  {
   "cell_type": "code",
   "execution_count": 31,
   "id": "5e043d77",
   "metadata": {},
   "outputs": [
    {
     "data": {
      "text/plain": [
       "{False: 0.4054382857020895, True: 0.265658747300216}"
      ]
     },
     "execution_count": 31,
     "metadata": {},
     "output_type": "execute_result"
    }
   ],
   "source": [
    "# Calculate success rate by whether or not the title is all lower case\n",
    "\n",
    "def Success_Rate9(number):\n",
    "    successful = 0\n",
    "    failed = 0\n",
    "    \n",
    "    for i in range(len(data['isLower'])):\n",
    "        if data['isLower'][i] == number:\n",
    "            if data['state'][i] == 'successful':\n",
    "                successful = successful + 1\n",
    "            else:\n",
    "                failed = failed + 1\n",
    "                \n",
    "    return successful/(successful+failed)\n",
    "\n",
    "dummies = [True, False]\n",
    "success_Rates_L = {}\n",
    "for i in dummies:\n",
    "    success_Rates_L[i] = Success_Rate9(i)\n",
    "success_Rates_L"
   ]
  },
  {
   "cell_type": "code",
   "execution_count": null,
   "id": "b07c6aec",
   "metadata": {},
   "outputs": [],
   "source": [
    "# Projects that use all lowercase are about 15% less likely to succeed than projects that don't."
   ]
  },
  {
   "cell_type": "code",
   "execution_count": 64,
   "id": "2d30a4f6",
   "metadata": {},
   "outputs": [
    {
     "data": {
      "text/plain": [
       "<function matplotlib.pyplot.show>"
      ]
     },
     "execution_count": 64,
     "metadata": {},
     "output_type": "execute_result"
    },
    {
     "data": {
      "image/png": "[encoded data removed]",
      "text/plain": [
       "<Figure size 288x288 with 1 Axes>"
      ]
     },
     "metadata": {
      "needs_background": "light"
     },
     "output_type": "display_data"
    }
   ],
   "source": [
    "# Plot success rate by use of all lowercase\n",
    "plt.bar(range(len(success_Rates_L)), list(success_Rates_L.values()), align='center')\n",
    "plt.xticks(range(len(success_Rates_L)), list(success_Rates_L.keys()), rotation='vertical')\n",
    "plt.title(\"Kickstarter Success Rate by Use of All Lower Case\")\n",
    "plt.xlabel(\"Uses all lowercase?\")\n",
    "plt.ylabel(\"Success Rate\")\n",
    "plt.rcParams['figure.figsize'] = [4, 4]\n",
    "plt.show"
   ]
  },
  {
   "cell_type": "code",
   "execution_count": 33,
   "id": "2600fd60",
   "metadata": {},
   "outputs": [],
   "source": [
    "# Create new features indicating the day and month that a given project was launched\n",
    "data['launched'] = pd.to_datetime(data['launched'])\n",
    "\n",
    "days = []\n",
    "for i in data['launched']:\n",
    "    days.append(i.dayofweek)  \n",
    "data['day'] = days\n",
    "\n",
    "months = []\n",
    "for i in data['launched']:\n",
    "    months.append(i.month)  \n",
    "data['month'] = months"
   ]
  },
  {
   "cell_type": "code",
   "execution_count": 34,
   "id": "199c3d52",
   "metadata": {},
   "outputs": [
    {
     "data": {
      "text/plain": [
       "{0: 0.40670205210630583,\n",
       " 1: 0.4251953384635836,\n",
       " 2: 0.40618926090557234,\n",
       " 3: 0.4022858649193169,\n",
       " 4: 0.38801464573676625,\n",
       " 5: 0.3745315728644976,\n",
       " 6: 0.404187851949046}"
      ]
     },
     "execution_count": 34,
     "metadata": {},
     "output_type": "execute_result"
    }
   ],
   "source": [
    "# Calculate success rate by day \n",
    "def Success_Rate6(day):\n",
    "    successful = 0\n",
    "    failed = 0\n",
    "    \n",
    "    for i in range(len(data['day'])):\n",
    "        if data['day'][i] == day:\n",
    "            if data['state'][i] == 'successful':\n",
    "                successful = successful + 1\n",
    "            else:\n",
    "                failed = failed + 1\n",
    "                \n",
    "    return successful/(successful+failed)\n",
    "\n",
    "days = list(data['day'].unique())\n",
    "success_Rates_D = {}\n",
    "for i in days:\n",
    "    success_Rates_D[i] = Success_Rate6(i)\n",
    "success_Rates_D"
   ]
  },
  {
   "cell_type": "code",
   "execution_count": null,
   "id": "a5f2c635",
   "metadata": {},
   "outputs": [],
   "source": [
    "# Projects launched on Monday are most likely to succeed, while projects launched on Thursday and Friday perform worse than other days."
   ]
  },
  {
   "cell_type": "code",
   "execution_count": 35,
   "id": "ca2b2156",
   "metadata": {},
   "outputs": [
    {
     "data": {
      "text/plain": [
       "{1: 0.388317699586286,\n",
       " 2: 0.41873120980325,\n",
       " 3: 0.4269435215946844,\n",
       " 4: 0.4231724813661336,\n",
       " 5: 0.41343616109682946,\n",
       " 6: 0.40634383736582336,\n",
       " 7: 0.36495141687755805,\n",
       " 8: 0.3809188523147333,\n",
       " 9: 0.4098007735532365,\n",
       " 10: 0.4204255319148936,\n",
       " 11: 0.41292450182430535,\n",
       " 12: 0.3705789958294968}"
      ]
     },
     "execution_count": 35,
     "metadata": {},
     "output_type": "execute_result"
    }
   ],
   "source": [
    "# Calculate success rate by month\n",
    "def Success_Rate7(month):\n",
    "    successful = 0\n",
    "    failed = 0\n",
    "    \n",
    "    for i in range(len(data['month'])):\n",
    "        if data['month'][i] == month:\n",
    "            if data['state'][i] == 'successful':\n",
    "                successful = successful + 1\n",
    "            else:\n",
    "                failed = failed + 1\n",
    "                \n",
    "    return successful/(successful+failed)\n",
    "\n",
    "months2 = list(data['month'].unique())\n",
    "success_Rates_M = {}\n",
    "for i in months2:\n",
    "    success_Rates_M[i] = Success_Rate7(i)\n",
    "\n",
    "success_Rates_M"
   ]
  },
  {
   "cell_type": "code",
   "execution_count": null,
   "id": "4aa1232c",
   "metadata": {},
   "outputs": [],
   "source": [
    "# Most months perform about the same, but July seems to lag behind at a 36% success rate"
   ]
  },
  {
   "cell_type": "code",
   "execution_count": 65,
   "id": "1c097221",
   "metadata": {},
   "outputs": [
    {
     "data": {
      "text/plain": [
       "<function matplotlib.pyplot.show>"
      ]
     },
     "execution_count": 65,
     "metadata": {},
     "output_type": "execute_result"
    },
    {
     "data": {
      "image/png": "[encoded data removed]",
      "text/plain": [
       "<Figure size 288x288 with 1 Axes>"
      ]
     },
     "metadata": {
      "needs_background": "light"
     },
     "output_type": "display_data"
    }
   ],
   "source": [
    "# Plot success rate by day\n",
    "plt.bar(range(len(success_Rates_D)), list(success_Rates_D.values()), align='center')\n",
    "plt.xticks(range(len(success_Rates_D)), list(success_Rates_D.keys()), rotation='vertical')\n",
    "plt.title(\"Kickstarter Success Rate by Day of Week Launched\")\n",
    "plt.xlabel(\"Day\")\n",
    "plt.ylabel(\"Success Rate\")\n",
    "plt.rcParams['figure.figsize'] = [4, 4]\n",
    "plt.show"
   ]
  },
  {
   "cell_type": "code",
   "execution_count": 66,
   "id": "6d36bddb",
   "metadata": {},
   "outputs": [
    {
     "data": {
      "text/plain": [
       "<function matplotlib.pyplot.show>"
      ]
     },
     "execution_count": 66,
     "metadata": {},
     "output_type": "execute_result"
    },
    {
     "data": {
      "image/png": "[encoded data removed]",
      "text/plain": [
       "<Figure size 288x288 with 1 Axes>"
      ]
     },
     "metadata": {
      "needs_background": "light"
     },
     "output_type": "display_data"
    }
   ],
   "source": [
    "# Plot success rate by month\n",
    "plt.bar(range(len(success_Rates_M)), list(success_Rates_M.values()), align='center')\n",
    "plt.xticks(range(len(success_Rates_M)), list(success_Rates_M.keys()), rotation='vertical')\n",
    "plt.title(\"Kickstarter Success Rate by Month Launched\")\n",
    "plt.xlabel(\"Month\")\n",
    "plt.ylabel(\"Success Rate\")\n",
    "plt.rcParams['figure.figsize'] = [4, 4]\n",
    "plt.show"
   ]
  },
  {
   "cell_type": "code",
   "execution_count": 38,
   "id": "e89ccc78",
   "metadata": {},
   "outputs": [],
   "source": [
    "# Create the final data frame with newly extracted features\n",
    "finalDf = data[['main_category', 'goal', 'country', 'numWords', 'isQuestion', 'isExclaimation', 'day', 'month', 'state']]"
   ]
  },
  {
   "cell_type": "code",
   "execution_count": 39,
   "id": "eb4475e2",
   "metadata": {},
   "outputs": [],
   "source": [
    "finalDf = pd.get_dummies(finalDf, columns=['main_category', 'country', 'day', 'month'])"
   ]
  },
  {
   "cell_type": "code",
   "execution_count": 40,
   "id": "f0c394d6",
   "metadata": {},
   "outputs": [],
   "source": [
    "from sklearn.preprocessing import LabelEncoder\n",
    "le = LabelEncoder()\n",
    "finalDf['y'] = le.fit_transform(finalDf['state'])"
   ]
  },
  {
   "cell_type": "code",
   "execution_count": 41,
   "id": "23d5af56",
   "metadata": {},
   "outputs": [],
   "source": [
    "from sklearn.model_selection import train_test_split\n",
    "\n",
    "X = finalDf.drop(labels=['state', 'y'], axis=1)\n",
    "y = finalDf['y']\n",
    "\n",
    "X_train, X_test, y_train, y_test = train_test_split(X, y, test_size=.2, random_state=11111)"
   ]
  },
  {
   "cell_type": "code",
   "execution_count": 50,
   "id": "2586df11",
   "metadata": {},
   "outputs": [
    {
     "name": "stdout",
     "output_type": "stream",
     "text": [
      "Test set accuracy is:  0.6655611668048541\n"
     ]
    },
    {
     "data": {
      "image/png": "[encoded data removed]",
      "text/plain": [
       "<Figure size 432x864 with 1 Axes>"
      ]
     },
     "metadata": {
      "needs_background": "light"
     },
     "output_type": "display_data"
    }
   ],
   "source": [
    "import xgboost as xgb\n",
    "from sklearn.metrics import accuracy_score\n",
    "\n",
    "xg_cl = xgb.XGBClassifier(objective = 'binary:logistic', n_estimators = 1200, seed = 123)\n",
    "xg_cl.fit(X, y)\n",
    "preds = xg_cl.predict(X_test)\n",
    "accuracy = accuracy_score(y_test, preds)\n",
    "        \n",
    "print('Test set accuracy is: ', accuracy)\n",
    "            \n",
    "xgb.plot_importance(xg_cl)\n",
    "plt.rcParams['figure.figsize'] = [6, 13]\n",
    "plt.show()"
   ]
  },
  {
   "cell_type": "code",
   "execution_count": null,
   "id": "f2e79837",
   "metadata": {},
   "outputs": [],
   "source": [
    "\"\"\"\n",
    "The model correctly predicts if a project will succeed or fail just over 2/3 of the time. Far and away the most important feature is \n",
    "The goal set for the project. This makes sense: If a goal is absurdly high, it won't be as likely to reach it. The opposite is also true.\n",
    "I was glad to see that one of my extracted features, numWords, was the second most important predictor.\n",
    "\"\"\""
   ]
  },
  {
   "cell_type": "code",
   "execution_count": 51,
   "id": "8221aab4",
   "metadata": {},
   "outputs": [
    {
     "data": {
      "image/png": "[encoded data removed]",
      "text/plain": [
       "<Figure size 576x576 with 2 Axes>"
      ]
     },
     "metadata": {
      "needs_background": "light"
     },
     "output_type": "display_data"
    }
   ],
   "source": [
    "from sklearn.metrics import confusion_matrix\n",
    "from seaborn import heatmap\n",
    "\n",
    "def plot_confusion_matrix(y_test, preds, size=None, normalize=False):\n",
    "    \n",
    "    cm = confusion_matrix(y_test, preds)\n",
    "    fmt = \"%d\"\n",
    "    if normalize:\n",
    "        cm = cm.astype('float') / cm.sum(axis=1)[:, np.newaxis]\n",
    "        fmt = \"%.2f\"\n",
    "    xticklabels = list(sorted(set(preds)))\n",
    "    yticklabels = list(sorted(set(y_test)))\n",
    "    if size is not None:\n",
    "        plt.figure(figsize=(size, size))\n",
    "        heatmap(cm)\n",
    "    if normalize:\n",
    "        plt.title(\"Confusion matrix (norm.)\")\n",
    "    else:\n",
    "        plt.title(\"Confusion matrix\")\n",
    "        plt.xlabel(\"Actual\")\n",
    "        plt.ylabel(\"Predicted\")\n",
    "    plt.gca().invert_yaxis() \n",
    "    \n",
    "plot_confusion_matrix(y_test, preds, size=8, normalize=False)"
   ]
  },
  {
   "cell_type": "code",
   "execution_count": null,
   "id": "654de9ff",
   "metadata": {},
   "outputs": [],
   "source": [
    "\"\"\"\n",
    "Since there were 64,000 more observations of failed projects than successful projects, the model learned to identify failed projects\n",
    "much better than successful ones. Thus, the most populated quadrant of the confusion matrix is true negative. While the model predicts\n",
    "failed projects well, it does not predict successful projects well: when the model guesses that a project was succesful, it is more \n",
    "likely to produce a type 1 error than be correct. However, the model does not struggle with type 2 error, as there are hardly any \n",
    "observations of the model predicting that a project failed and being wrong compared to other predictions.\n",
    "\"\"\""
   ]
  }
 ],
 "metadata": {
  "kernelspec": {
   "display_name": "Python 3",
   "language": "python",
   "name": "python3"
  },
  "language_info": {
   "codemirror_mode": {
    "name": "ipython",
    "version": 3
   },
   "file_extension": ".py",
   "mimetype": "text/x-python",
   "name": "python",
   "nbconvert_exporter": "python",
   "pygments_lexer": "ipython3",
   "version": "3.5.6"
  }
 },
 "nbformat": 4,
 "nbformat_minor": 5
}
